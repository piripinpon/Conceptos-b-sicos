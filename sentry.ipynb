{
  "nbformat": 4,
  "nbformat_minor": 0,
  "metadata": {
    "colab": {
      "provenance": [],
      "toc_visible": true,
      "authorship_tag": "ABX9TyPSg4dh6H5seubCfJKSLwW1",
      "include_colab_link": true
    },
    "kernelspec": {
      "name": "python3",
      "display_name": "Python 3"
    },
    "language_info": {
      "name": "python"
    }
  },
  "cells": [
    {
      "cell_type": "markdown",
      "metadata": {
        "id": "view-in-github",
        "colab_type": "text"
      },
      "source": [
        "<a href=\"https://colab.research.google.com/github/piripinpon/Conceptos-b-sicos/blob/main/sentry.ipynb\" target=\"_parent\"><img src=\"https://colab.research.google.com/assets/colab-badge.svg\" alt=\"Open In Colab\"/></a>"
      ]
    },
    {
      "cell_type": "code",
      "execution_count": 1,
      "metadata": {
        "id": "jaDbHevea8Sd"
      },
      "outputs": [],
      "source": [
        "!pip install --quiet sentry-sdk\n"
      ]
    },
    {
      "cell_type": "code",
      "source": [
        "import sentry_sdk\n",
        "\n",
        "sentry_sdk.init(dsn=None)  # sin debug\n",
        "\n",
        "def divide(a, b):\n",
        "    return a / b\n",
        "\n",
        "try:\n",
        "    resultado = divide(10, 0)\n",
        "    print(\"Resultado:\", resultado)\n",
        "except Exception as e:\n",
        "    sentry_sdk.capture_exception(e)\n",
        "    print(\"⚠️ Error capturado y simulado en Sentry:\", e)\n",
        "\n"
      ],
      "metadata": {
        "colab": {
          "base_uri": "https://localhost:8080/"
        },
        "id": "-oRhS84TbGtB",
        "outputId": "3007eed3-3dc5-4671-9a5f-a597b15076da"
      },
      "execution_count": 3,
      "outputs": [
        {
          "output_type": "stream",
          "name": "stderr",
          "text": [
            " [sentry] DEBUG: Setting up integrations (with default = True)\n",
            "DEBUG:sentry_sdk.errors:Setting up integrations (with default = True)\n",
            " [sentry] DEBUG: Did not import default integration sentry_sdk.integrations.anthropic.AnthropicIntegration: Anthropic not installed\n",
            "DEBUG:sentry_sdk.errors:Did not import default integration sentry_sdk.integrations.anthropic.AnthropicIntegration: Anthropic not installed\n",
            " [sentry] DEBUG: Did not import default integration sentry_sdk.integrations.ariadne.AriadneIntegration: ariadne is not installed\n",
            "DEBUG:sentry_sdk.errors:Did not import default integration sentry_sdk.integrations.ariadne.AriadneIntegration: ariadne is not installed\n",
            " [sentry] DEBUG: Did not import default integration sentry_sdk.integrations.arq.ArqIntegration: Arq is not installed\n",
            "DEBUG:sentry_sdk.errors:Did not import default integration sentry_sdk.integrations.arq.ArqIntegration: Arq is not installed\n",
            " [sentry] DEBUG: Did not import default integration sentry_sdk.integrations.asyncpg.AsyncPGIntegration: asyncpg not installed.\n",
            "DEBUG:sentry_sdk.errors:Did not import default integration sentry_sdk.integrations.asyncpg.AsyncPGIntegration: asyncpg not installed.\n",
            " [sentry] DEBUG: Did not import default integration sentry_sdk.integrations.boto3.Boto3Integration: botocore is not installed\n",
            "DEBUG:sentry_sdk.errors:Did not import default integration sentry_sdk.integrations.boto3.Boto3Integration: botocore is not installed\n",
            " [sentry] DEBUG: Did not import default integration sentry_sdk.integrations.bottle.BottleIntegration: Bottle not installed\n",
            "DEBUG:sentry_sdk.errors:Did not import default integration sentry_sdk.integrations.bottle.BottleIntegration: Bottle not installed\n",
            " [sentry] DEBUG: Did not import default integration sentry_sdk.integrations.celery.CeleryIntegration: Celery not installed\n",
            "DEBUG:sentry_sdk.errors:Did not import default integration sentry_sdk.integrations.celery.CeleryIntegration: Celery not installed\n",
            " [sentry] DEBUG: Did not import default integration sentry_sdk.integrations.chalice.ChaliceIntegration: Chalice is not installed\n",
            "DEBUG:sentry_sdk.errors:Did not import default integration sentry_sdk.integrations.chalice.ChaliceIntegration: Chalice is not installed\n",
            " [sentry] DEBUG: Did not import default integration sentry_sdk.integrations.clickhouse_driver.ClickhouseDriverIntegration: clickhouse-driver not installed.\n",
            "DEBUG:sentry_sdk.errors:Did not import default integration sentry_sdk.integrations.clickhouse_driver.ClickhouseDriverIntegration: clickhouse-driver not installed.\n",
            " [sentry] DEBUG: Did not import default integration sentry_sdk.integrations.cohere.CohereIntegration: Cohere not installed\n",
            "DEBUG:sentry_sdk.errors:Did not import default integration sentry_sdk.integrations.cohere.CohereIntegration: Cohere not installed\n",
            " [sentry] DEBUG: Did not import default integration sentry_sdk.integrations.django.DjangoIntegration: Django not installed\n",
            "DEBUG:sentry_sdk.errors:Did not import default integration sentry_sdk.integrations.django.DjangoIntegration: Django not installed\n",
            " [sentry] DEBUG: Did not import default integration sentry_sdk.integrations.falcon.FalconIntegration: Falcon not installed\n",
            "DEBUG:sentry_sdk.errors:Did not import default integration sentry_sdk.integrations.falcon.FalconIntegration: Falcon not installed\n",
            " [sentry] DEBUG: Did not import default integration sentry_sdk.integrations.gql.GQLIntegration: gql is not installed\n",
            "DEBUG:sentry_sdk.errors:Did not import default integration sentry_sdk.integrations.gql.GQLIntegration: gql is not installed\n",
            " [sentry] DEBUG: Did not import default integration sentry_sdk.integrations.graphene.GrapheneIntegration: graphene is not installed\n",
            "DEBUG:sentry_sdk.errors:Did not import default integration sentry_sdk.integrations.graphene.GrapheneIntegration: graphene is not installed\n",
            " [sentry] DEBUG: Did not import default integration sentry_sdk.integrations.huey.HueyIntegration: Huey is not installed\n",
            "DEBUG:sentry_sdk.errors:Did not import default integration sentry_sdk.integrations.huey.HueyIntegration: Huey is not installed\n",
            " [sentry] DEBUG: Did not import default integration sentry_sdk.integrations.litestar.LitestarIntegration: Litestar is not installed\n",
            "DEBUG:sentry_sdk.errors:Did not import default integration sentry_sdk.integrations.litestar.LitestarIntegration: Litestar is not installed\n",
            " [sentry] DEBUG: Did not import default integration sentry_sdk.integrations.loguru.LoguruIntegration: LOGURU is not installed\n",
            "DEBUG:sentry_sdk.errors:Did not import default integration sentry_sdk.integrations.loguru.LoguruIntegration: LOGURU is not installed\n",
            " [sentry] DEBUG: Did not import default integration sentry_sdk.integrations.pymongo.PyMongoIntegration: Pymongo not installed\n",
            "DEBUG:sentry_sdk.errors:Did not import default integration sentry_sdk.integrations.pymongo.PyMongoIntegration: Pymongo not installed\n",
            " [sentry] DEBUG: Did not import default integration sentry_sdk.integrations.pyramid.PyramidIntegration: Pyramid not installed\n",
            "DEBUG:sentry_sdk.errors:Did not import default integration sentry_sdk.integrations.pyramid.PyramidIntegration: Pyramid not installed\n",
            " [sentry] DEBUG: Did not import default integration sentry_sdk.integrations.quart.QuartIntegration: Quart is not installed\n",
            "DEBUG:sentry_sdk.errors:Did not import default integration sentry_sdk.integrations.quart.QuartIntegration: Quart is not installed\n",
            " [sentry] DEBUG: Did not import default integration sentry_sdk.integrations.rq.RqIntegration: RQ not installed\n",
            "DEBUG:sentry_sdk.errors:Did not import default integration sentry_sdk.integrations.rq.RqIntegration: RQ not installed\n",
            " [sentry] DEBUG: Did not import default integration sentry_sdk.integrations.sanic.SanicIntegration: Sanic not installed\n",
            "DEBUG:sentry_sdk.errors:Did not import default integration sentry_sdk.integrations.sanic.SanicIntegration: Sanic not installed\n",
            " [sentry] DEBUG: Did not import default integration sentry_sdk.integrations.starlite.StarliteIntegration: Starlite is not installed\n",
            "DEBUG:sentry_sdk.errors:Did not import default integration sentry_sdk.integrations.starlite.StarliteIntegration: Starlite is not installed\n",
            " [sentry] DEBUG: Did not import default integration sentry_sdk.integrations.strawberry.StrawberryIntegration: strawberry-graphql is not installed\n",
            "DEBUG:sentry_sdk.errors:Did not import default integration sentry_sdk.integrations.strawberry.StrawberryIntegration: strawberry-graphql is not installed\n",
            " [sentry] DEBUG: Enabling integration argv\n",
            "DEBUG:sentry_sdk.errors:Enabling integration argv\n",
            " [sentry] DEBUG: Enabling integration atexit\n",
            "DEBUG:sentry_sdk.errors:Enabling integration atexit\n",
            " [sentry] DEBUG: Enabling integration dedupe\n",
            "DEBUG:sentry_sdk.errors:Enabling integration dedupe\n",
            " [sentry] DEBUG: Enabling integration excepthook\n",
            "DEBUG:sentry_sdk.errors:Enabling integration excepthook\n",
            " [sentry] DEBUG: Enabling integration logging\n",
            "DEBUG:sentry_sdk.errors:Enabling integration logging\n",
            " [sentry] DEBUG: Enabling integration modules\n",
            "DEBUG:sentry_sdk.errors:Enabling integration modules\n",
            " [sentry] DEBUG: Enabling integration stdlib\n",
            "DEBUG:sentry_sdk.errors:Enabling integration stdlib\n",
            " [sentry] DEBUG: Enabling integration threading\n",
            "DEBUG:sentry_sdk.errors:Enabling integration threading\n",
            " [sentry] DEBUG: Enabling integration aiohttp\n",
            "DEBUG:sentry_sdk.errors:Enabling integration aiohttp\n",
            " [sentry] DEBUG: Enabling integration fastapi\n",
            "DEBUG:sentry_sdk.errors:Enabling integration fastapi\n",
            " [sentry] DEBUG: Enabling integration flask\n",
            "DEBUG:sentry_sdk.errors:Enabling integration flask\n",
            " [sentry] DEBUG: Enabling integration httpx\n",
            "DEBUG:sentry_sdk.errors:Enabling integration httpx\n",
            " [sentry] DEBUG: Enabling integration huggingface_hub\n",
            "DEBUG:sentry_sdk.errors:Enabling integration huggingface_hub\n",
            " [sentry] DEBUG: Enabling integration langchain\n",
            "DEBUG:sentry_sdk.errors:Enabling integration langchain\n",
            " [sentry] DEBUG: Enabling integration openai\n",
            "DEBUG:sentry_sdk.errors:Enabling integration openai\n",
            " [sentry] DEBUG: Enabling integration sqlalchemy\n",
            "DEBUG:sentry_sdk.errors:Enabling integration sqlalchemy\n",
            " [sentry] DEBUG: Enabling integration starlette\n",
            "DEBUG:sentry_sdk.errors:Enabling integration starlette\n",
            " [sentry] DEBUG: Enabling integration tornado\n",
            "DEBUG:sentry_sdk.errors:Enabling integration tornado\n",
            " [sentry] DEBUG: Setting SDK name to 'sentry.python.flask'\n",
            "DEBUG:sentry_sdk.errors:Setting SDK name to 'sentry.python.flask'\n",
            " [sentry] DEBUG: [Profiling] Continuous Profiler is already setup\n",
            "DEBUG:sentry_sdk.errors:[Profiling] Continuous Profiler is already setup\n"
          ]
        },
        {
          "output_type": "stream",
          "name": "stdout",
          "text": [
            "⚠️ Error capturado y simulado en Sentry: division by zero\n"
          ]
        }
      ]
    }
  ]
}